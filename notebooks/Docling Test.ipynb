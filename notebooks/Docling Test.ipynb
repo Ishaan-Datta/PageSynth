{
 "cells": [
  {
   "cell_type": "code",
   "execution_count": 1,
   "id": "08bc5d5a-a1a2-45ad-90ca-2b0a319ada0f",
   "metadata": {},
   "outputs": [
    {
     "name": "stderr",
     "output_type": "stream",
     "text": [
      "/usr/local/lib/python3.10/dist-packages/tqdm/auto.py:21: TqdmWarning: IProgress not found. Please update jupyter and ipywidgets. See https://ipywidgets.readthedocs.io/en/stable/user_install.html\n",
      "  from .autonotebook import tqdm as notebook_tqdm\n"
     ]
    }
   ],
   "source": [
    "import torch\n",
    "from docling_core.types.doc import DoclingDocument\n",
    "from docling_core.types.doc.document import DocTagsDocument\n",
    "from transformers import AutoProcessor, AutoModelForVision2Seq\n",
    "from transformers.image_utils import load_image\n",
    "import requests\n",
    "from PIL import Image\n",
    "from io import BytesIO\n",
    "import IPython.display as display"
   ]
  },
  {
   "cell_type": "code",
   "execution_count": 2,
   "id": "29b1da87-2310-4bd3-9244-ab1c48c58ece",
   "metadata": {},
   "outputs": [],
   "source": [
    "DEVICE = \"cuda\" if torch.cuda.is_available() else \"cpu\"\n",
    "processor = AutoProcessor.from_pretrained (\"ds4sd/SmolDocling-256M-preview\")\n",
    "model = AutoModelForVision2Seq.from_pretrained(\"ds4sd/SmolDocling-256M-preview\", torch_dtype=torch.bfloat16,).to(DEVICE)\n",
    "messages = [\n",
    "    {\n",
    "        \"role\": \"user\",\n",
    "        \"content\" : [\n",
    "            {\"type\": \"image\"},\n",
    "            {\"type\": \"text\", \"text\": \"convert this page to docling.\"}\n",
    "        ]\n",
    "    },\n",
    "]"
   ]
  },
  {
   "cell_type": "code",
   "execution_count": 4,
   "id": "80722f06-3d56-47c7-aba6-0e2e5237bb6f",
   "metadata": {},
   "outputs": [],
   "source": [
    "def prompt(image_path):\n",
    "    image = Image.open(image_path).convert(\"RGB\")\n",
    "    prompt = processor.apply_chat_template(messages, add_generation_prompt=True)\n",
    "    inputs = processor(text=prompt, images=[image], return_tensors=\"pt\").to(DEVICE)\n",
    "    generated_ids = model.generate(**inputs, max_new_tokens=8192)\n",
    "    prompt_length = inputs.input_ids.shape[1]\n",
    "    trimmed_generated_ids = generated_ids[:, prompt_length:]\n",
    "    doctags = processor.batch_decode(\n",
    "        trimmed_generated_ids,\n",
    "        skip_special_tokens=False,\n",
    "    )[0].lstrip()\n",
    "    doctags_doc = DocTagsDocument.from_doctags_and_image_pairs([doctags], [image])\n",
    "    print(doctags)\n",
    "    doc = DoclingDocument(name=\"Document\")\n",
    "    doc.load_from_doctags(doctags_doc)\n",
    "    print(\"\\n\\n\")\n",
    "    print(f\"**MD Output:**\\n\\n{doc.export_to_markdown()}\")"
   ]
  },
  {
   "cell_type": "code",
   "execution_count": 30,
   "id": "60ffc460-a951-4de6-a98e-327e4d95175b",
   "metadata": {},
   "outputs": [
    {
     "name": "stdout",
     "output_type": "stream",
     "text": [
      "<doctag><section_header_level_1><loc_97><loc_14><loc_412><loc_33>Closed loop transfer function of drive in z domain (cont'd)</section_header_level_1>\n",
      "<picture><loc_22><loc_63><loc_498><loc_170><other></picture>\n",
      "<section_header_level_1><loc_187><loc_180><loc_291><loc_194>Position feedback loop</section_header_level_1>\n",
      "<section_header_level_1><loc_15><loc_207><loc_230><loc_222>Closed loop transfer function of the machine:</section_header_level_1>\n",
      "<formula><loc_15><loc_240><loc_485><loc_284>G _ { c l } ( z ) = \\frac { D ( z ) G _ { c } ( z ) } { 1 + D ( z ) G _ { c } ( z ) } = \\frac { K _ { p } z + b } { 1 + K _ { p } z + a } G _ { c } ( z ) = \\frac { K _ { c l } z ^ { - 1 } + a _ { 2 } z ^ { 2 } + a _ { 3 } z + a _ { 0 } } { z ^ { 4 } + \\beta _ { 3 } z ^ { 3 } + \\beta _ { 2 } z ^ { 2 } + \\beta _ { 1 } z + \\beta _ { 0 } } = \\frac { z ^ { - 1 } ( 1 + a _ { 2 } z ^ { - 1 } + a _ { 3 } z ^ { - 2 } + a _ { 0 } z ^ { - 3 } ) } { z ^ { 1 } + \\beta _ { 3 } z ^ { - 1 } + \\beta _ { 2 } z ^ { - 2 } + \\beta _ { 1 } z ^ { - 3 } + \\beta _ { 0 } z ^ { - 4 } } = \\frac { x _ { a } ( k ) } { x _ { r } ( k ) }</formula>\n",
      "<formula><loc_65><loc_284><loc_475><loc_328>( 1 + \\beta _ { 3 } z ^ { - 1 } + \\beta _ { 2 } z ^ { - 2 } + \\beta _ { 1 } z ^ { - 3 } + \\beta _ { 0 } z ^ { - 4 } ) x _ { a } ( k ) = K _ { c l } ( z ^ { - 1 } + \\alpha _ { 2 } z ^ { - 2 } + \\alpha _ { 3 } z ^ { - 3 } + \\alpha _ { 0 } z ^ { - 4 } ) x _ { r } ( k )</formula>\n",
      "<text><loc_25><loc_350><loc_480><loc_365>x$_{a}$ ( k ) = K$_{c}$$_{l}$[ x$_{r}$ ( k - 1) + a$_{2}$x$_{r}$ ( k - 2) + a$_{3}$x$_{r}$ ( k - 3) + a$_{0}$x$_{r}$ ( k - 4)] - β$_{3}$x$_{a}$ ( k - 1) - β$_{2}$x$_{a}$ ( k - 2) - β$_{1}$x$_{a}$ ( k - 3) - β$_{0}$x$_{a}$ ( k - 4)</text>\n",
      "<text><loc_39><loc_380><loc_451><loc_439>Actual position control performance is first simulated. If the performance is found satisfactory, D(z) can be implemented in the computer software and commands can be sent to the actual machine at T [sec] intervals.</text>\n",
      "<picture><loc_1><loc_468><loc_28><loc_499><logo></picture>\n",
      "<page_footer><loc_27><loc_481><loc_316><loc_492>© University of British Columbia - Manufacturing Automation Laboratory Prof. Yusuf Altintas</page_footer>\n",
      "<page_footer><loc_473><loc_485><loc_486><loc_500>14</page_footer>\n",
      "</doctag><end_of_utterance>\n",
      "\n",
      "\n",
      "\n",
      "**MD Output:**\n",
      "\n",
      "## Closed loop transfer function of drive in z domain (cont'd)\n",
      "\n",
      "<!-- image -->\n",
      "\n",
      "## Position feedback loop\n",
      "\n",
      "## Closed loop transfer function of the machine:\n",
      "\n",
      "$$G _ { c l } ( z ) = \\frac { D ( z ) G _ { c } ( z ) } { 1 + D ( z ) G _ { c } ( z ) } = \\frac { K _ { p } z + b } { 1 + K _ { p } z + a } G _ { c } ( z ) = \\frac { K _ { c l } z ^ { - 1 } + a _ { 2 } z ^ { 2 } + a _ { 3 } z + a _ { 0 } } { z ^ { 4 } + \\beta _ { 3 } z ^ { 3 } + \\beta _ { 2 } z ^ { 2 } + \\beta _ { 1 } z + \\beta _ { 0 } } = \\frac { z ^ { - 1 } ( 1 + a _ { 2 } z ^ { - 1 } + a _ { 3 } z ^ { - 2 } + a _ { 0 } z ^ { - 3 } ) } { z ^ { 1 } + \\beta _ { 3 } z ^ { - 1 } + \\beta _ { 2 } z ^ { - 2 } + \\beta _ { 1 } z ^ { - 3 } + \\beta _ { 0 } z ^ { - 4 } } = \\frac { x _ { a } ( k ) } { x _ { r } ( k ) }$$\n",
      "\n",
      "$$( 1 + \\beta _ { 3 } z ^ { - 1 } + \\beta _ { 2 } z ^ { - 2 } + \\beta _ { 1 } z ^ { - 3 } + \\beta _ { 0 } z ^ { - 4 } ) x _ { a } ( k ) = K _ { c l } ( z ^ { - 1 } + \\alpha _ { 2 } z ^ { - 2 } + \\alpha _ { 3 } z ^ { - 3 } + \\alpha _ { 0 } z ^ { - 4 } ) x _ { r } ( k )$$\n",
      "\n",
      "x$\\_{a}$ ( k ) = K$\\_{c}$$\\_{l}$[ x$\\_{r}$ ( k - 1) + a$\\_{2}$x$\\_{r}$ ( k - 2) + a$\\_{3}$x$\\_{r}$ ( k - 3) + a$\\_{0}$x$\\_{r}$ ( k - 4)] - β$\\_{3}$x$\\_{a}$ ( k - 1) - β$\\_{2}$x$\\_{a}$ ( k - 2) - β$\\_{1}$x$\\_{a}$ ( k - 3) - β$\\_{0}$x$\\_{a}$ ( k - 4)\n",
      "\n",
      "Actual position control performance is first simulated. If the performance is found satisfactory, D(z) can be implemented in the computer software and commands can be sent to the actual machine at T [sec] intervals.\n",
      "\n",
      "<!-- image -->\n"
     ]
    }
   ],
   "source": [
    "prompt(\"page-13.png\")"
   ]
  },
  {
   "cell_type": "code",
   "execution_count": 5,
   "id": "6ce64981-498a-4337-bcdd-2537962a4569",
   "metadata": {},
   "outputs": [
    {
     "name": "stderr",
     "output_type": "stream",
     "text": [
      "Truncation was not explicitly activated but `max_length` is provided a specific value, please use `truncation=True` to explicitly truncate examples to max length. Defaulting to 'longest_first' truncation strategy. If you encode pairs of sequences (GLUE-style) with the tokenizer you can select this strategy more precisely by providing a specific strategy to `truncation`.\n"
     ]
    },
    {
     "name": "stdout",
     "output_type": "stream",
     "text": [
      "<doctag><section_header_level_1><loc_25><loc_14><loc_427><loc_40>Article 3.2 - ZOH Equivalent of Continuous Systems</section_header_level_1>\n",
      "<picture><loc_15><loc_88><loc_480><loc_460><other></picture>\n",
      "<picture><loc_4><loc_469><loc_35><loc_498><logo></picture>\n",
      "<page_footer><loc_25><loc_481><loc_317><loc_492>© University of British Columbia - Manufacturing Automation Laboratory Prof. Yusuf Altintas</page_footer>\n",
      "<page_footer><loc_462><loc_471><loc_470><loc_489>8</page_footer>\n",
      "</doctag><end_of_utterance>\n",
      "\n",
      "\n",
      "\n",
      "**MD Output:**\n",
      "\n",
      "## Article 3.2 - ZOH Equivalent of Continuous Systems\n",
      "\n",
      "<!-- image -->\n",
      "\n",
      "<!-- image -->\n"
     ]
    }
   ],
   "source": [
    "prompt(\"page-7.png\")"
   ]
  },
  {
   "cell_type": "code",
   "execution_count": null,
   "id": "350f2e85-3987-4fee-8f7c-004a388c0bbc",
   "metadata": {},
   "outputs": [],
   "source": []
  }
 ],
 "metadata": {
  "kernelspec": {
   "display_name": "Python 3 (ipykernel)",
   "language": "python",
   "name": "python3"
  },
  "language_info": {
   "codemirror_mode": {
    "name": "ipython",
    "version": 3
   },
   "file_extension": ".py",
   "mimetype": "text/x-python",
   "name": "python",
   "nbconvert_exporter": "python",
   "pygments_lexer": "ipython3",
   "version": "3.10.12"
  }
 },
 "nbformat": 4,
 "nbformat_minor": 5
}
